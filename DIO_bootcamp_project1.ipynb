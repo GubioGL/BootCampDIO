{
  "nbformat": 4,
  "nbformat_minor": 0,
  "metadata": {
    "colab": {
      "provenance": [],
      "authorship_tag": "ABX9TyMseNU5x1LU+B4ZQ+voYcZ1"
    },
    "kernelspec": {
      "name": "python3",
      "display_name": "Python 3"
    },
    "language_info": {
      "name": "python"
    }
  },
  "cells": [
    {
      "cell_type": "markdown",
      "source": [
        "# importando as bibliotecas"
      ],
      "metadata": {
        "id": "sr-nYgUhu1Sx"
      }
    },
    {
      "cell_type": "markdown",
      "source": [
        "Se necessario descomente/comente as linhas a seguir para instalar as bibliotecas necessarias."
      ],
      "metadata": {
        "id": "Fl3XpZGiu5k5"
      }
    },
    {
      "cell_type": "code",
      "source": [
        "#!pip install -U g4f\n",
        "#!pip install g4f\n",
        "!pip3 install g4f"
      ],
      "metadata": {
        "colab": {
          "base_uri": "https://localhost:8080/"
        },
        "id": "nP9ThO6kvCHx",
        "outputId": "9bb20875-6f75-4f78-cc11-405d1a614e36"
      },
      "execution_count": 6,
      "outputs": [
        {
          "output_type": "stream",
          "name": "stdout",
          "text": [
            "Requirement already satisfied: g4f in /usr/local/lib/python3.10/dist-packages (0.0.2.5)\n",
            "Requirement already satisfied: requests in /usr/local/lib/python3.10/dist-packages (from g4f) (2.31.0)\n",
            "Requirement already satisfied: pycryptodome in /usr/local/lib/python3.10/dist-packages (from g4f) (3.18.0)\n",
            "Requirement already satisfied: curl-cffi in /usr/local/lib/python3.10/dist-packages (from g4f) (0.5.7)\n",
            "Requirement already satisfied: aiohttp in /usr/local/lib/python3.10/dist-packages (from g4f) (3.8.5)\n",
            "Requirement already satisfied: certifi in /usr/local/lib/python3.10/dist-packages (from g4f) (2023.7.22)\n",
            "Requirement already satisfied: browser-cookie3 in /usr/local/lib/python3.10/dist-packages (from g4f) (0.19.1)\n",
            "Requirement already satisfied: websockets in /usr/local/lib/python3.10/dist-packages (from g4f) (11.0.3)\n",
            "Requirement already satisfied: js2py in /usr/local/lib/python3.10/dist-packages (from g4f) (0.74)\n",
            "Requirement already satisfied: quickjs in /usr/local/lib/python3.10/dist-packages (from g4f) (1.19.2)\n",
            "Requirement already satisfied: flask in /usr/local/lib/python3.10/dist-packages (from g4f) (2.2.5)\n",
            "Requirement already satisfied: flask-cors in /usr/local/lib/python3.10/dist-packages (from g4f) (4.0.0)\n",
            "Requirement already satisfied: attrs>=17.3.0 in /usr/local/lib/python3.10/dist-packages (from aiohttp->g4f) (23.1.0)\n",
            "Requirement already satisfied: charset-normalizer<4.0,>=2.0 in /usr/local/lib/python3.10/dist-packages (from aiohttp->g4f) (3.2.0)\n",
            "Requirement already satisfied: multidict<7.0,>=4.5 in /usr/local/lib/python3.10/dist-packages (from aiohttp->g4f) (6.0.4)\n",
            "Requirement already satisfied: async-timeout<5.0,>=4.0.0a3 in /usr/local/lib/python3.10/dist-packages (from aiohttp->g4f) (4.0.3)\n",
            "Requirement already satisfied: yarl<2.0,>=1.0 in /usr/local/lib/python3.10/dist-packages (from aiohttp->g4f) (1.9.2)\n",
            "Requirement already satisfied: frozenlist>=1.1.1 in /usr/local/lib/python3.10/dist-packages (from aiohttp->g4f) (1.4.0)\n",
            "Requirement already satisfied: aiosignal>=1.1.2 in /usr/local/lib/python3.10/dist-packages (from aiohttp->g4f) (1.3.1)\n",
            "Requirement already satisfied: lz4 in /usr/local/lib/python3.10/dist-packages (from browser-cookie3->g4f) (4.3.2)\n",
            "Requirement already satisfied: pycryptodomex in /usr/local/lib/python3.10/dist-packages (from browser-cookie3->g4f) (3.18.0)\n",
            "Requirement already satisfied: jeepney in /usr/lib/python3/dist-packages (from browser-cookie3->g4f) (0.7.1)\n",
            "Requirement already satisfied: cffi>=1.12.0 in /usr/local/lib/python3.10/dist-packages (from curl-cffi->g4f) (1.15.1)\n",
            "Requirement already satisfied: Werkzeug>=2.2.2 in /usr/local/lib/python3.10/dist-packages (from flask->g4f) (2.3.7)\n",
            "Requirement already satisfied: Jinja2>=3.0 in /usr/local/lib/python3.10/dist-packages (from flask->g4f) (3.1.2)\n",
            "Requirement already satisfied: itsdangerous>=2.0 in /usr/local/lib/python3.10/dist-packages (from flask->g4f) (2.1.2)\n",
            "Requirement already satisfied: click>=8.0 in /usr/local/lib/python3.10/dist-packages (from flask->g4f) (8.1.7)\n",
            "Requirement already satisfied: tzlocal>=1.2 in /usr/local/lib/python3.10/dist-packages (from js2py->g4f) (5.0.1)\n",
            "Requirement already satisfied: six>=1.10 in /usr/local/lib/python3.10/dist-packages (from js2py->g4f) (1.16.0)\n",
            "Requirement already satisfied: pyjsparser>=2.5.1 in /usr/local/lib/python3.10/dist-packages (from js2py->g4f) (2.7.1)\n",
            "Requirement already satisfied: idna<4,>=2.5 in /usr/local/lib/python3.10/dist-packages (from requests->g4f) (3.4)\n",
            "Requirement already satisfied: urllib3<3,>=1.21.1 in /usr/local/lib/python3.10/dist-packages (from requests->g4f) (1.26.16)\n",
            "Requirement already satisfied: pycparser in /usr/local/lib/python3.10/dist-packages (from cffi>=1.12.0->curl-cffi->g4f) (2.21)\n",
            "Requirement already satisfied: MarkupSafe>=2.0 in /usr/local/lib/python3.10/dist-packages (from Jinja2>=3.0->flask->g4f) (2.1.3)\n"
          ]
        }
      ]
    },
    {
      "cell_type": "code",
      "source": [
        "import pandas as pd\n",
        "import numpy as np\n",
        "import openai\n",
        "import requests\n",
        "import json\n",
        "import g4f"
      ],
      "metadata": {
        "id": "C_pJYha2Yosb"
      },
      "execution_count": 7,
      "outputs": []
    },
    {
      "cell_type": "markdown",
      "source": [
        "Primeiro vamos fazer upload dos dados"
      ],
      "metadata": {
        "id": "C7xDcLJQTsn8"
      }
    },
    {
      "cell_type": "markdown",
      "source": [
        "# Definindo as funções:"
      ],
      "metadata": {
        "id": "F5aKmDfDLddX"
      }
    },
    {
      "cell_type": "code",
      "source": [
        "def creat_dt():\n",
        "    # Gerando um numero aleatorio entre 0 e 100\n",
        "    random_number = np.random.randint(0,100,3)\n",
        "    # criando o arquivo pandas\n",
        "    df = pd.DataFrame({'id': random_number})\n",
        "    return df\n",
        "def Get_user(id_):\n",
        "    \"\"\"\n",
        "    Essa função solicita o id com entrada, e retorno  dos dados do usuario\n",
        "    identificado pelo id.\n",
        "\n",
        "    Arguments:\n",
        "        id(inteiro)\n",
        "    retorna :\n",
        "        dados(dicionario)\n",
        "    \"\"\"\n",
        "        # Verificação se o id é inteiro\n",
        "    if type(id_) == int:\n",
        "        dta =  requests.get(f'https://sdw-2023-prd.up.railway.app/users/{id_}')\n",
        "        # Verificação se o id utilizado tem no banco de dados\n",
        "        if dta.status_code == 200:\n",
        "            return dta.json()\n",
        "        else:\n",
        "            #print(f\" Usuario com id {id_} não encontrado! \\n Erro: {dta.status_code}\")\n",
        "            return 0\n",
        "    else:\n",
        "        print(\"Erro: id não é inteiro\")\n",
        "        return 0\n",
        "\n",
        "def Mensagem_IA(user,mensagem_):\n",
        "    \"\"\"\n",
        "    Essa função entra os dados do usario como entrada e conjunto da mensagem\n",
        "    que queremos personalisar.\n",
        "\n",
        "    Arguments:\n",
        "        user : dicionario\n",
        "        mensagem_: string\n",
        "    retorna :\n",
        "        (string)\n",
        "    \"\"\"\n",
        "    # Se quiser alterar usar outro provide substituit por g4f.Provider.ChatgptAi\n",
        "    response = g4f.ChatCompletion.create(\n",
        "        model=\"gpt-3.5-turbo\",\n",
        "        provider=g4f.Provider.DeepAi,\n",
        "        messages=[{\"role\": \"user\", \"content\": f\"Crie uma mensagem atrativa para o {user['name']}. {mensagem_} \"}],)\n",
        "    return response\n"
      ],
      "metadata": {
        "id": "ulA-FlYtle87"
      },
      "execution_count": 45,
      "outputs": []
    },
    {
      "cell_type": "markdown",
      "source": [
        "#"
      ],
      "metadata": {
        "id": "9T1E6HJKMBen"
      }
    },
    {
      "cell_type": "code",
      "source": [
        "df =  creat_dt()                   # Criando os id aleatorios para representar um banco de dados\n",
        "ID = df['id'].values.tolist()      # Colocando no formade lista\n",
        "ID"
      ],
      "metadata": {
        "colab": {
          "base_uri": "https://localhost:8080/"
        },
        "id": "8_lqNSd-rLza",
        "outputId": "063f6318-b09b-4988-cea6-995a15ec0bef"
      },
      "execution_count": 46,
      "outputs": [
        {
          "output_type": "execute_result",
          "data": {
            "text/plain": [
              "[52, 38, 59]"
            ]
          },
          "metadata": {},
          "execution_count": 46
        }
      ]
    },
    {
      "cell_type": "code",
      "source": [
        "# Verificando se o ID existe dentro do banco de dados\n",
        "users = [ Get_user(ID[i])  for i in range(len(ID))  if Get_user(ID[i]) != 0  ]"
      ],
      "metadata": {
        "id": "Foo59QhMrTl6"
      },
      "execution_count": 47,
      "outputs": []
    },
    {
      "cell_type": "markdown",
      "source": [
        "Aqui vamos usar um modelo de IA parecido com o ChatGPT mais gratuito.\n",
        "\n",
        "Ref.: https://github.com/xtekky/gpt4free"
      ],
      "metadata": {
        "id": "SVPfRnS1IS5n"
      }
    },
    {
      "cell_type": "code",
      "source": [
        "# Explicar sobre o que se trata a mensagem\n",
        "msg = \" Sobre o porque ele deveria aprender sobres Inteligencia Artificial e Computação quantica. Com no máximo 300 caracteristica\""
      ],
      "metadata": {
        "id": "TSzaCyxcIc6G"
      },
      "execution_count": 48,
      "outputs": []
    },
    {
      "cell_type": "code",
      "source": [
        "for usuario in users:\n",
        "    print(Mensagem_IA(usuario,msg),\"\\n\")"
      ],
      "metadata": {
        "colab": {
          "base_uri": "https://localhost:8080/"
        },
        "id": "m15X430PJNG4",
        "outputId": "0b1a3c78-f858-4398-fdff-f780580514d0"
      },
      "execution_count": 49,
      "outputs": [
        {
          "output_type": "stream",
          "name": "stdout",
          "text": [
            "Kya, imagine poder revolucionar a forma como vivemos e trabalhamos através do conhecimento em inteligência artificial e computação quântica! Com essas habilidades, você poderá criar soluções inovadoras e ser um líder em sua área de atuação. Não fique para trás, mergulhe nesse mundo fascinante agora mesmo! \n",
            "\n",
            "\"Leo, imagine poder desvendar os segredos da Inteligência Artificial e Computação Quântica! Desperte seu potencial criativo e surpreenda-se com as infinitas possibilidades que essas tecnologias podem te oferecer. Venha aprender com a gente e descubra um mundo de inovação e desafios. Vamos juntos!\" \n",
            "\n",
            "Marcos, imagine poder entender e criar tecnologias revolucionárias que vão mudar o mundo! Aprender sobre Inteligência Artificial e Computação Quântica é essencial para garantir seu lugar no futuro! E ainda, pode ser sua chance de dominar o mundo da tecnologia e inovação. Não perca mais tempo, invista em seu futuro agora! \n",
            "\n"
          ]
        }
      ]
    }
  ]
}