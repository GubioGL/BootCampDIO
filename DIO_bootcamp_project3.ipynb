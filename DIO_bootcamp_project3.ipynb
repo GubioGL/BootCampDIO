{
 "cells": [
  {
   "cell_type": "code",
   "execution_count": 2,
   "metadata": {},
   "outputs": [],
   "source": [
    "class hero:\n",
    "    def __init__(this ,name,age,tipo):\n",
    "        this.name = name\n",
    "        this.age  = age\n",
    "        this.tipo = tipo\n",
    "        \n",
    "    def attack(this):\n",
    "        if   this.tipo == \"ninja\":\n",
    "            print(f\"O {this.tipo} atacou usando shuriken!\")\n",
    "        elif this.tipo == \"mago\":\n",
    "            print(f\"O {this.tipo} atacou usando magia!\")\n",
    "        elif this.tipo == \"monge\":\n",
    "            print(f\"O {this.tipo} atacou usando marciais!\")\n",
    "        elif this.tipo == \"guerreio\":\n",
    "            print(f\"O {this.tipo} atacou usando espada!\")\n",
    "        else :\n",
    "            print(f\"Erro!\\nVerifique se vc digitou corretamente \\nEscreva tudo em letra minuscula!\")"
   ]
  },
  {
   "cell_type": "code",
   "execution_count": 3,
   "metadata": {},
   "outputs": [
    {
     "name": "stdout",
     "output_type": "stream",
     "text": [
      "Erro!\n",
      "Verifique se vc digitou corretamente \n",
      "Escreva tudo em letra minuscula!\n"
     ]
    }
   ],
   "source": [
    "Heroi = hero(\"Max\",16,\"guerreiro\")\n",
    "Heroi.attack()"
   ]
  },
  {
   "cell_type": "code",
   "execution_count": 6,
   "metadata": {},
   "outputs": [
    {
     "name": "stdout",
     "output_type": "stream",
     "text": [
      "O ninja atacou usando shuriken!\n"
     ]
    }
   ],
   "source": [
    "Heroi = hero(\"joaozinho\",16,\"ninja\")\n",
    "Heroi.attack()"
   ]
  },
  {
   "cell_type": "code",
   "execution_count": 7,
   "metadata": {},
   "outputs": [
    {
     "name": "stdout",
     "output_type": "stream",
     "text": [
      "Erro!\n",
      "Verifique se vc digitou corretamente \n",
      "Escreva tudo em letra minuscula!\n"
     ]
    }
   ],
   "source": [
    "Heroi = hero(\"pluto\",16,\"dragão\")\n",
    "Heroi.attack()"
   ]
  }
 ],
 "metadata": {
  "kernelspec": {
   "display_name": "base",
   "language": "python",
   "name": "python3"
  },
  "language_info": {
   "codemirror_mode": {
    "name": "ipython",
    "version": 3
   },
   "file_extension": ".py",
   "mimetype": "text/x-python",
   "name": "python",
   "nbconvert_exporter": "python",
   "pygments_lexer": "ipython3",
   "version": "3.11.4"
  },
  "orig_nbformat": 4
 },
 "nbformat": 4,
 "nbformat_minor": 2
}
